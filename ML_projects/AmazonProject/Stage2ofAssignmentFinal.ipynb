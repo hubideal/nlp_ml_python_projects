{
 "cells": [
  {
   "cell_type": "markdown",
   "metadata": {},
   "source": [
    "# Test Set"
   ]
  },
  {
   "cell_type": "code",
   "execution_count": 1,
   "metadata": {
    "collapsed": true
   },
   "outputs": [],
   "source": [
    "import numpy as np\n",
    "import pandas as pd\n",
    "import matplotlib.pyplot as plt\n",
    "from sklearn.externals import joblib\n",
    "from my_measures import BinaryClassificationPerformance\n",
    "from scipy.stats import zscore\n",
    "%matplotlib inline"
   ]
  },
  {
   "cell_type": "markdown",
   "metadata": {},
   "source": [
    "### Read raw test data"
   ]
  },
  {
   "cell_type": "code",
   "execution_count": 2,
   "metadata": {},
   "outputs": [
    {
     "name": "stdout",
     "output_type": "stream",
     "text": [
      "(91000, 14)\n"
     ]
    }
   ],
   "source": [
    "amazon = pd.read_csv('../amazon_data/raw_data_test.csv')\n",
    "print(amazon.shape)"
   ]
  },
  {
   "cell_type": "code",
   "execution_count": 3,
   "metadata": {
    "collapsed": true
   },
   "outputs": [],
   "source": [
    "amazon['helpful'] = (amazon['helpScore']>=.67) & (amazon['HelpfulnessDenominator']>4)\n",
    "# # print(amazon['helpful'])"
   ]
  },
  {
   "cell_type": "code",
   "execution_count": 4,
   "metadata": {},
   "outputs": [
    {
     "name": "stdout",
     "output_type": "stream",
     "text": [
      "(47770, 14)\n"
     ]
    }
   ],
   "source": [
    "amazon = amazon[np.isfinite(amazon['helpScore'])]\n",
    "print(amazon.shape)"
   ]
  },
  {
   "cell_type": "markdown",
   "metadata": {},
   "source": [
    "we are just running the training data for the test set.  The fit is done.  So we are applying that fit to the test data.  "
   ]
  },
  {
   "cell_type": "code",
   "execution_count": 5,
   "metadata": {},
   "outputs": [
    {
     "name": "stdout",
     "output_type": "stream",
     "text": [
      "    Unnamed: 0  Unnamed: 0.1      Id   ProductId          UserId  \\\n",
      "0       181267        413866  413867  B0026KPDG8  A3F8AMXZFG76OY   \n",
      "1        13808        365696  365697  B003ENHSC8  A1OH76AX20G0BX   \n",
      "5       353519        529250  529251  B0014DZQA6  A3SH3ZVXS16IBL   \n",
      "6        41797        457780  457781  B001CHJ01A  A3BAMQO2TEG296   \n",
      "10      412433        149737  149738  B005H6FF3Y   A7WV4HI6C8WRJ   \n",
      "\n",
      "                            ProfileName  HelpfulnessNumerator  \\\n",
      "0                        Brenda Persson                     2   \n",
      "1   Bank Of America \"Hoping for Purity\"                     3   \n",
      "5                            Jeff Jones                     4   \n",
      "6                       Dorothy \"njsyd\"                     1   \n",
      "10                   Edward A. Woodward                    12   \n",
      "\n",
      "    HelpfulnessDenominator  Score        Time  \\\n",
      "0                        2      5  1280102400   \n",
      "1                        7      5  1216252800   \n",
      "5                        6      1  1310256000   \n",
      "6                        2      5  1233705600   \n",
      "10                      12      1  1330646400   \n",
      "\n",
      "                             Summary  \\\n",
      "0                   Love these chips   \n",
      "1   Great Product and Fast Shipping!   \n",
      "5                      Too Expensive   \n",
      "6    this is our second favorite....   \n",
      "10    Not fit for human consumption.   \n",
      "\n",
      "                                                 Text  helpScore  helpful  \n",
      "0   These chips have a great flavor.  My husband l...   1.000000    False  \n",
      "1   The Maple Syrup was shipped very quickly.  We ...   0.428571    False  \n",
      "5   I found the same box of Dove dark chocolate ba...   0.666667    False  \n",
      "6   This is our second favorite coffee at the offi...   0.500000    False  \n",
      "10  I was very excited when i saw this product, i'...   1.000000     True  \n",
      "0.158614193008\n"
     ]
    }
   ],
   "source": [
    "print(amazon.head())\n",
    "print(amazon['helpful'].mean())"
   ]
  },
  {
   "cell_type": "markdown",
   "metadata": {},
   "source": [
    "### Feature extraction on natural language data"
   ]
  },
  {
   "cell_type": "code",
   "execution_count": 6,
   "metadata": {
    "collapsed": true
   },
   "outputs": [],
   "source": [
    "# # http://scikit-learn.org/stable/modules/generated/sklearn.feature_extraction.text.CountVectorizer.html\n",
    "# from sklearn.feature_extraction.text import CountVectorizer\n",
    "# vectorizer = CountVectorizer()\n",
    "# corpus = amazon.Text.as_matrix()\n",
    "# X_bag_of_words = vectorizer.fit_transform(corpus)\n",
    "# print(X_bag_of_words.toarray())"
   ]
  },
  {
   "cell_type": "code",
   "execution_count": 7,
   "metadata": {},
   "outputs": [
    {
     "name": "stderr",
     "output_type": "stream",
     "text": [
      "/Users/hubideal/anaconda3/lib/python3.6/site-packages/sklearn/feature_extraction/hashing.py:94: DeprecationWarning: the option non_negative=True has been deprecated in 0.19 and will be removed in version 0.21.\n",
      "  \" in version 0.21.\", DeprecationWarning)\n"
     ]
    },
    {
     "name": "stdout",
     "output_type": "stream",
     "text": [
      "(47770, 131072)\n"
     ]
    }
   ],
   "source": [
    "# vectorize Bag of Words from review text; as sparse matrix\n",
    "# from sklearn.feature_extraction.text import HashingVectorizer\n",
    "# hv = HashingVectorizer(n_features=2 ** 17, non_negative=True)\n",
    "\n",
    "# from sklearn.feature_extraction.text import HashingVectorizer\n",
    "# hv = HashingVectorizer(n_features=2 ** 17, non_negative=True, ngram_range=(1,3))\n",
    "# X_hv = hv.fit_transform(amazon.Text)\n",
    "# print(X_hv.shape)\n",
    "\n",
    "hv = joblib.load('hv.pkl')\n",
    "X_hv = hv.transform(amazon.Text)\n",
    "print(X_hv.shape)\n",
    "\n"
   ]
  },
  {
   "cell_type": "code",
   "execution_count": 8,
   "metadata": {
    "collapsed": true
   },
   "outputs": [],
   "source": [
    "# http://scikit-learn.org/stable/modules/generated/sklearn.feature_extraction.text.TfidfTransformer.html\n",
    "# from sklearn.feature_extraction.text import TfidfTransformer\n",
    "# transformer = TfidfTransformer()\n",
    "transformer = joblib.load('transformer.pkl')\n",
    "X_tfidf = transformer.transform(X_hv)"
   ]
  },
  {
   "cell_type": "code",
   "execution_count": 9,
   "metadata": {},
   "outputs": [
    {
     "name": "stdout",
     "output_type": "stream",
     "text": [
      "<class 'scipy.sparse.csr.csr_matrix'>\n"
     ]
    }
   ],
   "source": [
    "print(type(X_tfidf))"
   ]
  },
  {
   "cell_type": "markdown",
   "metadata": {
    "collapsed": true
   },
   "source": [
    "### Create additional quantitative features"
   ]
  },
  {
   "cell_type": "code",
   "execution_count": 10,
   "metadata": {
    "collapsed": true
   },
   "outputs": [],
   "source": [
    "amazon['reviewLen'] = amazon['Text'].str.len()\n",
    "amazon['summaryLen'] = amazon['Summary'].str.len()\n",
    "amazon['wordCount'] = amazon['Text'].str.split().apply(len)\n",
    "\n",
    "amazon['wordArray'] = amazon['Text'].str.split()\n",
    "amazon['wordArrayLen'] = amazon['wordArray'].str.len()\n",
    "amazon['userIdLen'] = amazon['UserId'].str.len()\n",
    "amazon['idLen'] = amazon['Id']\n",
    "amazon['profileLen'] = amazon['ProfileName'].str.len()\n",
    "amazon['zScore'] = amazon['Score']\n",
    "amazon['avgWord'] = amazon['reviewLen']/amazon['wordCount']"
   ]
  },
  {
   "cell_type": "code",
   "execution_count": 11,
   "metadata": {},
   "outputs": [
    {
     "name": "stdout",
     "output_type": "stream",
     "text": [
      "False\n"
     ]
    }
   ],
   "source": [
    "amazon['summaryLen'].fillna(0, inplace=True)\n",
    "print(np.any(np.isnan(amazon['summaryLen'])))"
   ]
  },
  {
   "cell_type": "code",
   "execution_count": 12,
   "metadata": {},
   "outputs": [
    {
     "name": "stdout",
     "output_type": "stream",
     "text": [
      "False\n"
     ]
    }
   ],
   "source": [
    "amazon['profileLen'].fillna(0, inplace=True)\n",
    "print(np.any(np.isnan(amazon['profileLen'])))"
   ]
  },
  {
   "cell_type": "code",
   "execution_count": 13,
   "metadata": {
    "collapsed": true
   },
   "outputs": [],
   "source": [
    "def word_counter(text):\n",
    "    counter=0\n",
    "    for word in text:\n",
    "        if word == \"is\" or word == 'are' or word == \"was\" or word == \"were\" or word == \"can\" or word == \"could\" or word == \"will\" or word == \"would\" or word == \"become\" or word == \"have\" or word == \"has\" or word == \"had\":\n",
    "            counter=counter+1\n",
    "    return counter\n",
    "\n",
    "amazon['wordCount'] = amazon['wordArray'].apply(word_counter)\n",
    "amazon['passivePer'] = amazon['wordCount'] / amazon['wordArrayLen']\n",
    "\n"
   ]
  },
  {
   "cell_type": "code",
   "execution_count": 14,
   "metadata": {
    "collapsed": true
   },
   "outputs": [],
   "source": [
    "# def word_counter(text):\n",
    "#     counter=0\n",
    "#     for word in text:\n",
    "#         if word == \"excellent\" or word == 'yum' or word == \"good\" or word == \"dog\" or word == \"dogs\" or word == \"!\" or word == \"fantastic\" or word == \"helpful\" or word == \"product\" or word == \"bought\" or word == \"recommend\":\n",
    "#             counter=counter+1\n",
    "#     return counter\n",
    "\n",
    "# amazon['wordCount2'] = amazon['wordArray'].apply(word_counter)\n",
    "# amazon['goodWords'] = amazon['wordCount2'] / amazon['wordArrayLen']\n"
   ]
  },
  {
   "cell_type": "code",
   "execution_count": 15,
   "metadata": {
    "collapsed": true
   },
   "outputs": [],
   "source": [
    "def word_capitalize(text):\n",
    "    counter=0\n",
    "    for word in text:\n",
    "        #if word == 'tea' or word == 'get' or word == 'years' or word == 'oil' or word == 'cat' or word == 'quality' or word == 'milk' or word == 'less' or word == 'brand' or word == 'give' or word == 'lot' or word == 'stuff' or word == 'ingredients' or word == 'back':\n",
    "        if  word == 'love' or word == 'taste' or word =='liked' or word ==\"n't\" or word =='great' or word =='good' or word =='flavors' or word =='product' or word =='very' or word =='using' or word =='just' or word =='trying' or word =='buy' or word =='food' or word =='make' or word =='order' or word =='price' or word =='eating' or word =='time' or word =='best' or word =='really' or word =='only' or word =='amazon' or word =='little' or word =='stores' or word ==\"'ve\" or word =='better' or word =='because' or word =='did' or word =='does' or word ==\"'m\" or word =='any' or word =='br' or word =='br' or word =='verified' or word =='purchased': \n",
    "        #word == 'I' or word == 'you' or word == 'my' or word == 'like' or word == 'good' or word == 'one' or word == 'food' or word == 'all' or word == 'more' or word == 'very' or word == 'product' or word == 'taste' or word == 'out' or word == 'me' or word == 'flavor' or word == 'tea' or word == 'great' or word == 'coffee' or word == 'get' or word == 'up' or word == 'use' or word == 'only' or word == 'no' or word == 'much' or word == 'we' or word == 'little' or word == 'time' or word == 'love' or word == 'My' or word == 'too' or word == 'make' or word == 'tried' or word == 'Amazon' or word == 'find' or word == 'best' or word == 'better' or word == 'water' or word == 'price' or word == 'eat' or word == 'used' or word == 'dog' or word == 'buy' or word == 'now' or word == 'first' or word == 'try' or word == 'found' or word == 'We' or word == 'sugar' or word == 'cup' or word == 'then' or word == 'made' or word == 'over' or word == '2' or word == 'our' or word == 'day' or word == 'years' or word == 'oil' or word == 'chocolate' or word == 'cat' or word == 'know' or word == 'box' or word == 'bought' or word == 'think' or word == 'store' or word == 'go' or word == 'quality' or word == 'want' or word == 'recommend' or word == 'milk' or word == 'less' or word == 'mix' or word == 'never' or word == 'brand' or word == 'without' or word == 'every' or word == 'You' or word == 'sweet' or word == 'give' or word == 'lot' or word == 'again' or word == 'drink' or word == 'stuff' or word == 'order' or word == 'ingredients' or word == 'back' or word == 'got' or word == 'tastes' or word == '1' or word == 'makes' or word == 'say':\n",
    "            counter=counter+1\n",
    "                \n",
    "    return counter\n",
    "\n",
    "amazon['wordCapitalize'] = amazon['wordArray'].apply(word_capitalize)\n",
    "amazon['capitalism'] = amazon['wordCapitalize'] / amazon['wordArrayLen']\n"
   ]
  },
  {
   "cell_type": "code",
   "execution_count": 16,
   "metadata": {
    "collapsed": true
   },
   "outputs": [],
   "source": [
    "# amazon['avgWord'] = zscore(amazon['avgWord'])\n",
    "# amazon[\"Score\"] = zscore(amazon[\"Score\"])\n",
    "# amazon[\"passivePer\"] = zscore(amazon[\"passivePer\"])\n",
    "# amazon['capitalism'] = zscore(amazon['capitalism'])\n",
    "# amazon[\"mystery\"] = zscore(amazon['Unnamed: 0'])"
   ]
  },
  {
   "cell_type": "code",
   "execution_count": 17,
   "metadata": {
    "collapsed": true
   },
   "outputs": [],
   "source": [
    "# amazon['summaryLen'] = zscore(amazon['summaryLen'])\n",
    "# amazon['profileLen'] = zscore(amazon['profileLen'])"
   ]
  },
  {
   "cell_type": "code",
   "execution_count": 18,
   "metadata": {},
   "outputs": [
    {
     "name": "stdout",
     "output_type": "stream",
     "text": [
      "    Score   avgWord  passivePer  capitalism\n",
      "0       5  5.277778    0.055556    0.111111\n",
      "1       5  5.714286    0.142857    0.095238\n",
      "5       1  5.354839    0.021505    0.032258\n",
      "6       5  5.476190    0.047619    0.000000\n",
      "10      1  5.389764    0.047244    0.035433\n",
      "12      3  5.165217    0.086957    0.043478\n",
      "14      5  6.064516    0.064516    0.064516\n",
      "15      5  5.123711    0.051546    0.092784\n",
      "16      3  5.065217    0.130435    0.086957\n",
      "21      5  5.230769    0.076923    0.115385\n",
      "<class 'pandas.core.frame.DataFrame'>\n"
     ]
    }
   ],
   "source": [
    "# # features from Amazon.csv to add to feature set\n",
    "# amazon['reviewLen'] = amazon['Text'].str.len()\n",
    "\n",
    "# X_quant_features = amazon[[\"Score\", \"reviewLen\"]]\n",
    "# print(X_quant_features.head(10))\n",
    "# print(type(X_quant_features))\n",
    "\n",
    "# features from Amazon.csv to add to feature set\n",
    "# amazon['reviewLen'] = amazon['Text'].str.len()\n",
    "# amazon['profileLen'] = amazon['ProfileName'].str.len()\n",
    "# amazon['profileLen'] = (amazon['ProfileName'].str.len())/1\n",
    "\n",
    "\n",
    "# features from Amazon.csv to add to feature set\n",
    "# amazon['reviewLen'] = amazon['Text'].str.len()\n",
    "# amazon['profileLen'] = (amazon['ProfileName'].str.len())/1\n",
    "\n",
    "X_quant_features = amazon[[ 'Score', 'avgWord', 'passivePer', 'capitalism']]\n",
    "print(X_quant_features.head(10))\n",
    "print(type(X_quant_features))"
   ]
  },
  {
   "cell_type": "markdown",
   "metadata": {},
   "source": [
    "### Combine all quantitative features into a single sparse matrix"
   ]
  },
  {
   "cell_type": "code",
   "execution_count": 19,
   "metadata": {},
   "outputs": [
    {
     "name": "stdout",
     "output_type": "stream",
     "text": [
      "(47770, 131076)\n"
     ]
    }
   ],
   "source": [
    "from scipy.sparse import csr_matrix, hstack\n",
    "X_quant_features_csr = csr_matrix(X_quant_features)\n",
    "X_combined = hstack([X_tfidf, X_quant_features_csr])\n",
    "X_matrix = csr_matrix(X_combined) # convert to sparse matrix\n",
    "print(X_matrix.shape)"
   ]
  },
  {
   "cell_type": "markdown",
   "metadata": {},
   "source": [
    "### Create `X`, scaled matrix of features"
   ]
  },
  {
   "cell_type": "code",
   "execution_count": 20,
   "metadata": {},
   "outputs": [
    {
     "name": "stdout",
     "output_type": "stream",
     "text": [
      "(47770, 131076)\n"
     ]
    }
   ],
   "source": [
    "# feature scaling\n",
    "# from sklearn.preprocessing import StandardScaler\n",
    "# sc = StandardScaler(with_mean=False)\n",
    "sc = joblib.load('sc.pkl')\n",
    "X = sc.transform(X_matrix)\n",
    "print(X.shape)"
   ]
  },
  {
   "cell_type": "markdown",
   "metadata": {},
   "source": [
    "### create `y`, vector of Labels"
   ]
  },
  {
   "cell_type": "code",
   "execution_count": 21,
   "metadata": {},
   "outputs": [
    {
     "name": "stdout",
     "output_type": "stream",
     "text": [
      "<class 'numpy.ndarray'>\n"
     ]
    }
   ],
   "source": [
    "y = amazon['helpful'].values\n",
    "print(type(y))"
   ]
  },
  {
   "cell_type": "markdown",
   "metadata": {},
   "source": [
    "### predict `y` with the fit on the training set"
   ]
  },
  {
   "cell_type": "markdown",
   "metadata": {},
   "source": [
    "Pickle fit matters here.  we are only predicting based on that fit.  Predict(x)"
   ]
  },
  {
   "cell_type": "code",
   "execution_count": 22,
   "metadata": {},
   "outputs": [
    {
     "name": "stdout",
     "output_type": "stream",
     "text": [
      "{'Pos': 7577, 'Neg': 40193, 'TP': 3570, 'TN': 35810, 'FP': 4383, 'FN': 4007, 'Accuracy': 0.82436675737910825, 'Precision': 0.44888721237268953, 'Recall': 0.47116272931239278, 'desc': 'svm'}\n"
     ]
    }
   ],
   "source": [
    "# # MODEL: SVM, linear\n",
    "# from sklearn import linear_model\n",
    "# svm = linear_model.SGDClassifier(alpha=.05)\n",
    "# svm.fit(X, y)\n",
    "# joblib.dump(svm, 'svm.pkl') # pickle\n",
    "\n",
    "# svm_performance = BinaryClassificationPerformance(svm.predict(X), y, 'svm')\n",
    "# svm_performance.compute_measures()\n",
    "# print(svm_performance.performance_measures)\n",
    "\n",
    "\n",
    "# MODEL: SVM, linear\n",
    "# from sklearn import linear_model\n",
    "# svm = linear_model.SGDClassifier()\n",
    "# svm.fit(X, y)\n",
    "# joblib.dump(svm, 'svm.pkl') # pickle\n",
    "svm = joblib.load('svm.pkl') # pickle\n",
    "\n",
    "svm_performance = BinaryClassificationPerformance(svm.predict(X), y, 'svm')\n",
    "svm_performance.compute_measures()\n",
    "print(svm_performance.performance_measures)"
   ]
  },
  {
   "cell_type": "code",
   "execution_count": 23,
   "metadata": {},
   "outputs": [
    {
     "name": "stdout",
     "output_type": "stream",
     "text": [
      "{'Pos': 7577, 'Neg': 40193, 'TP': 3468, 'TN': 36718, 'FP': 3475, 'FN': 4109, 'Accuracy': 0.84123927150931543, 'Precision': 0.49949589514619042, 'Recall': 0.45770093704632442, 'desc': 'lgs'}\n"
     ]
    }
   ],
   "source": [
    "# MODEL: logistic regression\n",
    "# from sklearn import linear_model\n",
    "# lgs = linear_model.SGDClassifier(loss='log', n_iter=50, alpha=0.00001)\n",
    "# lgs.fit(X, y)\n",
    "# joblib.dump(lgs, 'lgs.pkl') # pickle\n",
    "lgs = joblib.load('lgs.pkl')\n",
    "\n",
    "lgs_performance = BinaryClassificationPerformance(lgs.predict(X), y, 'lgs')\n",
    "lgs_performance.compute_measures()\n",
    "print(lgs_performance.performance_measures)"
   ]
  },
  {
   "cell_type": "code",
   "execution_count": 24,
   "metadata": {},
   "outputs": [
    {
     "name": "stdout",
     "output_type": "stream",
     "text": [
      "{'Pos': 7577, 'Neg': 40193, 'TP': 3735, 'TN': 33710, 'FP': 6483, 'FN': 3842, 'Accuracy': 0.78386016328239483, 'Precision': 0.36553141514973575, 'Recall': 0.49293915797809157, 'desc': 'nbs'}\n"
     ]
    }
   ],
   "source": [
    "# MODEL: Naive Bayes\n",
    "# from sklearn.naive_bayes import MultinomialNB\n",
    "# nbs = MultinomialNB()\n",
    "# nbs.fit(X, y)\n",
    "# joblib.dump(nbs, 'nbs.pkl') # pickle\n",
    "nbs = joblib.load('nbs.pkl')\n",
    "\n",
    "nbs_performance = BinaryClassificationPerformance(nbs.predict(X), y, 'nbs')\n",
    "nbs_performance.compute_measures()\n",
    "print(nbs_performance.performance_measures)"
   ]
  },
  {
   "cell_type": "code",
   "execution_count": 25,
   "metadata": {},
   "outputs": [
    {
     "name": "stdout",
     "output_type": "stream",
     "text": [
      "{'Pos': 7577, 'Neg': 40193, 'TP': 2914, 'TN': 34984, 'FP': 5209, 'FN': 4663, 'Accuracy': 0.79334310236550132, 'Precision': 0.35873445771266771, 'Recall': 0.38458492807179623, 'desc': 'rdg'}\n"
     ]
    }
   ],
   "source": [
    "# MODEL: Ridge Regression Classifier\n",
    "# from sklearn import linear_model\n",
    "# rdg = linear_model.RidgeClassifier()\n",
    "# rdg.fit(X, y)\n",
    "# joblib.dump(rdg, 'rdg.pkl') # pickle\n",
    "rdg = joblib.load('rdg.pkl')\n",
    "\n",
    "rdg_performance = BinaryClassificationPerformance(rdg.predict(X), y, 'rdg')\n",
    "rdg_performance.compute_measures()\n",
    "print(rdg_performance.performance_measures)"
   ]
  },
  {
   "cell_type": "code",
   "execution_count": 26,
   "metadata": {},
   "outputs": [
    {
     "name": "stdout",
     "output_type": "stream",
     "text": [
      "{'Pos': 7577, 'Neg': 40193, 'TP': 3594, 'TN': 36500, 'FP': 3693, 'FN': 3983, 'Accuracy': 0.8393133765961901, 'Precision': 0.49320708110333472, 'Recall': 0.47433020984558533, 'desc': 'prc'}\n"
     ]
    }
   ],
   "source": [
    "# # MODEL: Perceptron\n",
    "# from sklearn import linear_model\n",
    "# prc = linear_model.SGDClassifier(loss='perceptron', eta0=8, max_iter=3, alpha= .1)\n",
    "# prc.fit(X, y)\n",
    "# joblib.dump(prc, 'prc.pkl') # pickle\n",
    "prc = joblib.load('prc.pkl')\n",
    "\n",
    "prc_performance = BinaryClassificationPerformance(prc.predict(X), y, 'prc')\n",
    "prc_performance.compute_measures()\n",
    "print(prc_performance.performance_measures)"
   ]
  },
  {
   "cell_type": "markdown",
   "metadata": {},
   "source": [
    "### ROC plot to compare performance of various models and fits"
   ]
  },
  {
   "cell_type": "code",
   "execution_count": 27,
   "metadata": {},
   "outputs": [
    {
     "data": {
      "image/png": "[encoded data removed]",
      "text/plain": [
       "<matplotlib.figure.Figure at 0x1a33867e80>"
      ]
     },
     "metadata": {},
     "output_type": "display_data"
    }
   ],
   "source": [
    "#fits = [svm_performance, lgs_performance,  rdg_performance, prc_performance]\n",
    "fits = [svm_performance, lgs_performance, rdg_performance, nbs_performance, prc_performance]\n",
    "\n",
    "for fit in fits:\n",
    "    plt.plot(fit.performance_measures['FP'] / fit.performance_measures['Neg'], \n",
    "             fit.performance_measures['TP'] / fit.performance_measures['Pos'], 'bo')\n",
    "    plt.text(fit.performance_measures['FP'] / fit.performance_measures['Neg'], \n",
    "             fit.performance_measures['TP'] / fit.performance_measures['Pos'], fit.desc)\n",
    "plt.axis([0, 1, 0, 1])\n",
    "plt.title('ROC plot: test set')\n",
    "plt.xlabel('False positive rate')\n",
    "plt.ylabel('True positive rate')\n",
    "plt.show()"
   ]
  },
  {
   "cell_type": "code",
   "execution_count": null,
   "metadata": {
    "collapsed": true
   },
   "outputs": [],
   "source": []
  }
 ],
 "metadata": {
  "kernelspec": {
   "display_name": "Python 3",
   "language": "python",
   "name": "python3"
  },
  "language_info": {
   "codemirror_mode": {
    "name": "ipython",
    "version": 3
   },
   "file_extension": ".py",
   "mimetype": "text/x-python",
   "name": "python",
   "nbconvert_exporter": "python",
   "pygments_lexer": "ipython3",
   "version": "3.6.5"
  }
 },
 "nbformat": 4,
 "nbformat_minor": 1
}
